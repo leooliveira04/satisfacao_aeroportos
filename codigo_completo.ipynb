{
 "cells": [
  {
   "cell_type": "markdown",
   "metadata": {},
   "source": [
    "#### Bibliotecas"
   ]
  },
  {
   "cell_type": "code",
   "execution_count": 27,
   "metadata": {},
   "outputs": [],
   "source": [
    "import pandas as pd\n",
    "import sys\n",
    "import warnings\n",
    "from sklearn.metrics import silhouette_score\n",
    "import numpy as np\n",
    "from sklearn.decomposition import PCA\n",
    "from prince import MCA\n",
    "from sklearn.preprocessing import MinMaxScaler\n",
    "import matplotlib.pyplot as plt\n",
    "from kmodes.kmodes import KModes\n",
    "from sklearn.cluster import KMeans\n",
    "from sklearn.cluster import DBSCAN\n",
    "from sklearn.cluster import AgglomerativeClustering\n",
    "from sklearn.model_selection import train_test_split\n",
    "from sklearn.ensemble import RandomForestClassifier\n",
    "from sklearn.metrics import classification_report\n",
    "import shap \n",
    "import plotly.express as px\n",
    "import ipywidgets as widgets\n",
    "from IPython.display import display\n",
    "import seaborn as sns\n",
    "from ipywidgets import interact, Dropdown"
   ]
  },
  {
   "cell_type": "code",
   "execution_count": 2,
   "metadata": {},
   "outputs": [],
   "source": [
    "if not sys.warnoptions:\n",
    "    warnings.simplefilter(\"ignore\")"
   ]
  },
  {
   "cell_type": "markdown",
   "metadata": {},
   "source": [
    "#### Importação e Limpeza Base de Dados"
   ]
  },
  {
   "cell_type": "code",
   "execution_count": 3,
   "metadata": {},
   "outputs": [],
   "source": [
    "db = pd.read_csv('pesquisa-satisfacao-do-passageiro-2021-2023.csv', low_memory=False)"
   ]
  },
  {
   "cell_type": "code",
   "execution_count": null,
   "metadata": {},
   "outputs": [],
   "source": [
    "db.info()"
   ]
  },
  {
   "cell_type": "code",
   "execution_count": 5,
   "metadata": {},
   "outputs": [],
   "source": [
    "dados_faltantes_ = db.isna().sum() / len(db)\n",
    "dados_faltantes_primeira_etapa = db.loc[:, dados_faltantes_ < 0.6]"
   ]
  },
  {
   "cell_type": "code",
   "execution_count": 6,
   "metadata": {},
   "outputs": [],
   "source": [
    "dados_faltantes_primeira_etapa.drop(columns=['PROCESSO', 'INÍCIO COLETA', 'FIM COLETA', 'TERMINAL', 'PORTÃO','CONEXÃO', 'COMENTÁRIOS ADICIONAIS', 'VOO', 'NACIONALIDADE', 'MEIO DE  TRANSPORTE PARA O AEROPORTO'], inplace= True)"
   ]
  },
  {
   "cell_type": "code",
   "execution_count": 7,
   "metadata": {},
   "outputs": [],
   "source": [
    "dados_n_faltantes = dados_faltantes_primeira_etapa\n",
    "for atributo in dados_n_faltantes.columns:\n",
    "    dados_n_faltantes = dados_n_faltantes.drop(dados_n_faltantes.loc[(dados_n_faltantes[atributo] == \"NS\") | \n",
    "                                                                    (dados_n_faltantes[atributo] == \"NS/NR\") | \n",
    "                                                                    (dados_n_faltantes[atributo] == \"Não Informou\") | \n",
    "                                                                    (dados_n_faltantes[atributo].isna())].index , axis=0)\n",
    "    dados_n_faltantes.reset_index(drop=True, inplace=True)"
   ]
  },
  {
   "cell_type": "markdown",
   "metadata": {},
   "source": [
    "#### Organização dos Dados"
   ]
  },
  {
   "cell_type": "code",
   "execution_count": 8,
   "metadata": {},
   "outputs": [],
   "source": [
    "dados_n_faltantes = dados_n_faltantes.drop(dados_n_faltantes.loc[(dados_n_faltantes['TIPO DE VOO'] == 'Internacional')].index , axis=0)\n",
    "dados_n_faltantes.reset_index(drop=True, inplace=True)"
   ]
  },
  {
   "cell_type": "code",
   "execution_count": 9,
   "metadata": {},
   "outputs": [],
   "source": [
    "dados_n_faltantes.drop(columns=['TIPO DE VOO'], inplace= True)"
   ]
  },
  {
   "cell_type": "code",
   "execution_count": 10,
   "metadata": {},
   "outputs": [],
   "source": [
    "datas_remover = ['44849','44851', '44852', '44853', '44854', '44855', '44856', '44858','44859', '44835', '44837', '44838', '44839', '44840', '44841', '44842', '44843', '44844', '44845', '44847', '44848', '44857', '44850', '44846']\n",
    "\n",
    "dados_n_faltantes = dados_n_faltantes[~dados_n_faltantes['DATA'].isin(datas_remover)]"
   ]
  },
  {
   "cell_type": "code",
   "execution_count": 11,
   "metadata": {},
   "outputs": [],
   "source": [
    "dados_n_faltantes['DATA'] = pd.to_datetime(dados_n_faltantes['DATA'], format='%d/%m/%Y').dt.year"
   ]
  },
  {
   "cell_type": "code",
   "execution_count": 12,
   "metadata": {},
   "outputs": [],
   "source": [
    "dados_n_faltantes['CIA AÉREA'] = dados_n_faltantes[\"CIA AÉREA\"].str.lower()\n",
    "dados_n_faltantes['CIA AÉREA'] = dados_n_faltantes['CIA AÉREA'].replace('voopass', 'voepass')"
   ]
  },
  {
   "cell_type": "code",
   "execution_count": 13,
   "metadata": {},
   "outputs": [],
   "source": [
    "dados_n_faltantes['POSSUI DEFICIÊNCIA'] = dados_n_faltantes['POSSUI DEFICIÊNCIA'].replace('Nenhuma.', 'Nenhuma')"
   ]
  },
  {
   "cell_type": "code",
   "execution_count": 14,
   "metadata": {},
   "outputs": [],
   "source": [
    "dados_n_faltantes.loc[dados_n_faltantes['POSSUI DEFICIÊNCIA'] != 'Nenhuma','POSSUI DEFICIÊNCIA'] = 'Possui'"
   ]
  },
  {
   "cell_type": "code",
   "execution_count": 15,
   "metadata": {},
   "outputs": [],
   "source": [
    "dados_n_faltantes['SANITÁRIOS'] = dados_n_faltantes[\"SANITÁRIOS\"].map(lambda x: int(float(x)))"
   ]
  },
  {
   "cell_type": "code",
   "execution_count": 16,
   "metadata": {},
   "outputs": [],
   "source": [
    "dados_n_faltantes['IDADE'] = dados_n_faltantes['IDADE'].replace('56 a 64 anos', '56 a 65 anos')"
   ]
  },
  {
   "cell_type": "code",
   "execution_count": 17,
   "metadata": {},
   "outputs": [],
   "source": [
    "dados_n_faltantes['RENDA FAMILIAR'] = dados_n_faltantes[\"RENDA FAMILIAR\"].str.lower()\n",
    "dados_n_faltantes['RENDA FAMILIAR'] = dados_n_faltantes[\"RENDA FAMILIAR\"].str.replace('.', '', regex=False)"
   ]
  },
  {
   "cell_type": "code",
   "execution_count": 18,
   "metadata": {},
   "outputs": [],
   "source": [
    "dados_n_faltantes['QUANTIDADE DE VIAGENS NOS ÚLTIMOS 12 MESES'] = dados_n_faltantes['QUANTIDADE DE VIAGENS NOS ÚLTIMOS 12 MESES'].str.lower()\n",
    "dados_n_faltantes['QUANTIDADE DE VIAGENS NOS ÚLTIMOS 12 MESES'] = dados_n_faltantes['QUANTIDADE DE VIAGENS NOS ÚLTIMOS 12 MESES'].replace('1 (primeira viagem)', 'Primeira')\n",
    "dados_n_faltantes['QUANTIDADE DE VIAGENS NOS ÚLTIMOS 12 MESES'] = dados_n_faltantes['QUANTIDADE DE VIAGENS NOS ÚLTIMOS 12 MESES'].replace('1 - primeira viagem', 'Primeira')"
   ]
  },
  {
   "cell_type": "code",
   "execution_count": 19,
   "metadata": {},
   "outputs": [],
   "source": [
    "mapeamento_motivo = {'Trabalho': 1, \n",
    "                     'Lazer': 2, \n",
    "                     'Outros': 3, \n",
    "                     'Lazer e Trabalho': 4,\n",
    "                     'Visitar a irmã doente': 5, \n",
    "                     'Entrevista p visto amaricano': 6, \n",
    "                     'Saúde': 7,\n",
    "                     'Qualificação': 8, \n",
    "                     'Estudos': 8, \n",
    "                     'Visitar familiares': 5,\n",
    "                     'Voltando para casa': 6, \n",
    "                     'Mudança': 6, \n",
    "                     'Estudo, curso': 8, \n",
    "                     'Estudo': 8,\n",
    "                     'Morar em outro estado': 6, \n",
    "                     'Tratamento médico': 7, \n",
    "                     'Visitar família': 5,\n",
    "                     'Retorno para casa': 6, \n",
    "                     'Férias': 2, \n",
    "                     'Vista a familiares': 5, \n",
    "                     'Evento': 2,\n",
    "                     'Competição': 8, \n",
    "                     'Medico': 7, \n",
    "                     'Midança de pais': 6, \n",
    "                     'Regresso a casa': 6,\n",
    "                     'Cuidar da filha': 5, \n",
    "                     'Voltando pra casa depois do passeio': 6,\n",
    "                     'Vizitar familiar': 5, \n",
    "                     'Curso': 8,\n",
    "                     'Visita médica a sobrinha no hospital': 5, \n",
    "                     'Família': 5,\n",
    "                     'NR passageiro teve que embarcar': 3, \n",
    "                     'Voltando pra casa': 6, \n",
    "                     'Saude': 7,\n",
    "                     'Visitar família,pai doente': 5, \n",
    "                     'Visitar parentes': 5, \n",
    "                     'Ver o namorado': 5,\n",
    "                     'Congresso.': 8, \n",
    "                     'Show': 2, \n",
    "                     'Esta indo para um seminário': 8, \n",
    "                     'Prova': 8,\n",
    "                     'Fazer Prova': 8, \n",
    "                     'Concurso': 8, \n",
    "                     'Luto': 5, \n",
    "                     'Mora. Fora': 6,\n",
    "                     'Prestar concurso': 8, \n",
    "                     'Visitar parentes família': 5,\n",
    "                     'Visitar a família': 5, \n",
    "                     'Congresso': 8, \n",
    "                     'Folga': 2, \n",
    "                     'Ver a mae': 5,\n",
    "                     'Visita a familia': 5, \n",
    "                     'Fazer visto americano': 6, \n",
    "                     'Passeio': 2,\n",
    "                     'Tratamento de saúde': 7, \n",
    "                     'Cuidar do filho internado': 5,\n",
    "                     'Evento acadêmico': 8, \n",
    "                     'Visto': 6, \n",
    "                     'Estudando': 8,\n",
    "                     'Acompanhar o filho no futebol': 5, \n",
    "                     'Turismo e visita': 2,\n",
    "                     'Renovar o visto': 6, \n",
    "                     'mudança': 6, \n",
    "                     'Doença': 7, \n",
    "                     'Volta para casa': 6,\n",
    "                     'Estudo.': 8, \n",
    "                     'Estao de mudança': 6, \n",
    "                     'Turismo': 2, \n",
    "                     'Visto americano': 6,\n",
    "                     'Convenção': 8, \n",
    "                     'Regresso para casa': 6, \n",
    "                     'Familia': 5, \n",
    "                     'Fazer Sport': 8,\n",
    "                     'Assuntos pessoais': 5, \n",
    "                     'Compromissos': 5, \n",
    "                     'Retorno ao domicílio': 6,\n",
    "                     'Encontro da igreja': 8, \n",
    "                     'Concurso publico': 8, \n",
    "                     'Particular': 5,\n",
    "                     'Falecimento familiar': 5, \n",
    "                     'Falecimento de família': 5, \n",
    "                     'Volta pra casa': 6,\n",
    "                     'Entrevista de visto': 6, \n",
    "                     'Rotina, visitar família': 5,\n",
    "                     'Visita familiares': 5, \n",
    "                     'Lua de mel': 5, \n",
    "                     'Motivo de saúde': 7,\n",
    "                     'Mora no exterior': 6, \n",
    "                     'Aniversário da mãe': 5, \n",
    "                     'Visitar familia': 5,\n",
    "                     'Pessoal': 5, \n",
    "                     'Visita familiar': 5, \n",
    "                     'Visita famíliar': 5,\n",
    "                     'Retorno de férias': 2, \n",
    "                     'Óbito': 5, \n",
    "                     'Conhecer neta': 5,\n",
    "                     'Visita saúde família': 5, \n",
    "                     'Doença familiar': 5, \n",
    "                     'Turismo religioso': 8,\n",
    "                     'Saúde e mudança': 7, \n",
    "                     'Visitar os país': 5, \n",
    "                     'Descanso': 2,\n",
    "                     'tratamento médico': 7, \n",
    "                     'Estudante': 8,\n",
    "                     'Vim renovar visto e estou retornando para casa': 6, \n",
    "                     'Cidadania': 6,\n",
    "                     'Morte de um ente querido': 5, \n",
    "                     'Estudar': 7, \n",
    "                     'Curso de formação': 8,\n",
    "                     'Retornado pra casa': 6, \n",
    "                     'Familiar': 5, \n",
    "                     'Consulta médica': 7,\n",
    "                     'Visitar os filhos': 5, \n",
    "                     'Retiro espiritual': 8,\n",
    "                     'Visitar família, voltando pra casa': 5, \n",
    "                     'Emergência': 5,\n",
    "                     'retornando pra casa': 6, \n",
    "                     'Fzer visto americano': 6, \n",
    "                     'Doença na família': 5,\n",
    "                     'Turismo e consulta médica': 2, \n",
    "                     'Aniversário': 5, \n",
    "                     'Congresso e feira': 8,\n",
    "                     'Aniversário sobrinha neta': 5,\n",
    "                     'Voltar para casa, estava aqui a passeio': 2, \n",
    "                     'Concurso público': 8,\n",
    "                     'morte': 5, \n",
    "                     'Intercambio fora do Brasil': 8, \n",
    "                     'Pessoais': 5,\n",
    "                     'visitar família': 5, \n",
    "                     'Pwgar visto americano': 6,\n",
    "                     'Falwcimento de um parente': 5,\n",
    "                     'Esporte': 8, \n",
    "                     'Emergencia': 5,\n",
    "                     'Retornando para casa': 6, \n",
    "                     'Retornar para a casa, na Inglaterra.': 6,\n",
    "                     'Consulta médica/cirurgia': 7, \n",
    "                     'Congresso religioso': 8,\n",
    "                     'Voltando pra casa, veio visitar a família': 6,\n",
    "                     'Evento na família, casamento': 5, \n",
    "                     'Casamento': 5,\n",
    "                     'Cuidar pais idosos': 5,\n",
    "                     'Familar': 5, \n",
    "                     'Seminário': 8, \n",
    "                     'Evento/convenção': 8, \n",
    "                     'Questão familiar': 5,\n",
    "                     'Moradia': 6, \n",
    "                     'Receber apartamento': 3, \n",
    "                     'Falecimento': 5, \n",
    "                     'Missão': 8,\n",
    "                     'Visto americano em Brasília': 6, \n",
    "                     'Ver familia': 5, \n",
    "                     'Mudando': 6, \n",
    "                     'Visita': 5,\n",
    "                     'Negocio': 1, \n",
    "                     'Negócio': 1, \n",
    "                     'Visita a pessoa doente': 5, \n",
    "                     'Óbito familiar': 5,\n",
    "                     'Mudança moradia': 6, \n",
    "                     'Veio fazer concurso': 8, \n",
    "                     'Morte família': 5,\n",
    "                     'Tirar visto, agora retorno para casa': 6, \n",
    "                     'Problema familiar': 5,\n",
    "                     'Casamento de amiga': 5, \n",
    "                     'Pós graduação': 8, \n",
    "                     'Retorno a casa': 6,\n",
    "                     'Campeonato': 8, \n",
    "                     'vai cuidar da saúde da mãe': 5,\n",
    "                     'Veio tirar o visto, retornando pra casa': 6, \n",
    "                     'Recreio': 2, \n",
    "                     'Ferias': 2,\n",
    "                     'Visita a família': 5, \n",
    "                     'luto': 5,\n",
    "                     'Treinamento de qualificação pela empresa': 1, \n",
    "                     'Retornando pra casa': 6,\n",
    "                     'Compromisso na embaixada': 3, \n",
    "                     'Mora em Portugal': 6, \n",
    "                     'Ir a embaixada': 3,\n",
    "                     'Retorno pra casa': 6, \n",
    "                     'Família,': 5, \n",
    "                     'Visita ao Filho': 5,\n",
    "                     'Saúde e trabalho': 7, \n",
    "                     'Trabalho e estudo': 1, \n",
    "                     'Acadêmico/Concurso': 8,\n",
    "                     'Funeral/Óbito': 5, \n",
    "                     'Retornando para Casa': 6,\n",
    "                     'Congresso/Seminário/Palestra': 8, \n",
    "                     'lazer': 2, \n",
    "                     'Retiro': 8,\n",
    "                     'Estudos/Congressos/Seminários/Palestras': 8,\n",
    "                     'Saúde/Tratamento/Consulta/Exames': 7, \n",
    "                     'Jurídico/Embaixada': 3,\n",
    "                     'Esporte/Campeonato/Competição': 8, \n",
    "                     'Familiar / Família': 5}\n",
    "dados_n_faltantes['MOTIVO DA VIAGEM'] = dados_n_faltantes['MOTIVO DA VIAGEM'].map(mapeamento_motivo)"
   ]
  },
  {
   "cell_type": "code",
   "execution_count": 20,
   "metadata": {},
   "outputs": [],
   "source": [
    "dados_n_faltantes = dados_n_faltantes.drop(dados_n_faltantes.loc[(dados_n_faltantes['MOTIVO DA VIAGEM'].isna())].index , axis=0)\n",
    "dados_n_faltantes['MOTIVO DA VIAGEM'] = dados_n_faltantes['MOTIVO DA VIAGEM'].astype(int)\n",
    "dados_n_faltantes.reset_index(drop=True, inplace=True)"
   ]
  },
  {
   "cell_type": "code",
   "execution_count": 21,
   "metadata": {},
   "outputs": [],
   "source": [
    "dados_n_faltantes['MOTIVO DA VIAGEM'] = dados_n_faltantes['MOTIVO DA VIAGEM'].replace(1, 'Trabalho')\n",
    "dados_n_faltantes['MOTIVO DA VIAGEM'] = dados_n_faltantes['MOTIVO DA VIAGEM'].replace(2, 'Lazer')\n",
    "dados_n_faltantes['MOTIVO DA VIAGEM'] = dados_n_faltantes['MOTIVO DA VIAGEM'].replace(3, 'Outros')\n",
    "dados_n_faltantes['MOTIVO DA VIAGEM'] = dados_n_faltantes['MOTIVO DA VIAGEM'].replace(4, 'Lazer e Trabalho')\n",
    "dados_n_faltantes['MOTIVO DA VIAGEM'] = dados_n_faltantes['MOTIVO DA VIAGEM'].replace(5, 'Familia')\n",
    "dados_n_faltantes['MOTIVO DA VIAGEM'] = dados_n_faltantes['MOTIVO DA VIAGEM'].replace(6, 'Mudança')\n",
    "dados_n_faltantes['MOTIVO DA VIAGEM'] = dados_n_faltantes['MOTIVO DA VIAGEM'].replace(7, 'Saude')\n",
    "dados_n_faltantes['MOTIVO DA VIAGEM'] = dados_n_faltantes['MOTIVO DA VIAGEM'].replace(8, 'Esutdo')"
   ]
  },
  {
   "cell_type": "code",
   "execution_count": null,
   "metadata": {},
   "outputs": [],
   "source": [
    "colunas_teste = ['FACILIDADE DE DESEMBARQUE NO MEIO-FIO', 'PROCESSO DE INSPEÇÃO DE SEGURANÇA', 'LOCALIZAÇÃO E DESLOCAMENTO', 'CONFORTO DA SALA DE EMBARQUE', \n",
    "                 'DISPONIBILIDADE DE TOMADAS','SANITÁRIOS', 'LIMPEZA GERAL DO AEROPORTO', 'SATISFAÇÃO GERAL', 'IDADE', 'ESCOLARIDADE', 'RENDA FAMILIAR', 'QUANTIDADE DE VIAGENS NOS ÚLTIMOS 12 MESES', 'ANTECEDÊNCIA']"
   ]
  },
  {
   "cell_type": "code",
   "execution_count": 37,
   "metadata": {},
   "outputs": [],
   "source": [
    "db_v1 = dados_n_faltantes[colunas_teste]"
   ]
  },
  {
   "cell_type": "markdown",
   "metadata": {},
   "source": [
    "#### Análise do Banco de Dados Limpo"
   ]
  },
  {
   "cell_type": "code",
   "execution_count": null,
   "metadata": {},
   "outputs": [],
   "source": [
    "columns_to_plot = [\n",
    "    'FACILIDADE DE DESEMBARQUE NO MEIO-FIO', 'PROCESSO DE INSPEÇÃO DE SEGURANÇA', \n",
    "    'LOCALIZAÇÃO E DESLOCAMENTO', 'CONFORTO DA SALA DE EMBARQUE', \n",
    "    'DISPONIBILIDADE DE TOMADAS', 'SANITÁRIOS', 'LIMPEZA GERAL DO AEROPORTO', \n",
    "    'SATISFAÇÃO GERAL', 'IDADE', 'ESCOLARIDADE', 'RENDA FAMILIAR', \n",
    "    'QUANTIDADE DE VIAGENS NOS ÚLTIMOS 12 MESES', 'ANTECEDÊNCIA'\n",
    "]\n",
    "\n",
    "def plot_bar(column):\n",
    "    \"\"\"Função para plotar gráfico de barras de uma coluna específica.\"\"\"\n",
    "    values = db_v1[column].value_counts(normalize=True).sort_index()\n",
    "    basic_colors = ['blue', 'green', 'red', 'orange', 'purple', 'brown', 'pink', 'gray', 'cyan', 'yellow']\n",
    "    colors = basic_colors[:len(values)]\n",
    "    \n",
    "    plt.figure(figsize=(10, 6))\n",
    "    values.plot(kind='bar', color=colors, edgecolor='black')\n",
    "    plt.title(f'Distribuição de {column}')\n",
    "    plt.ylabel('Proporção')\n",
    "    plt.xlabel(column)\n",
    "    plt.xticks(rotation=45)\n",
    "    plt.grid(axis='y', linestyle='--', alpha=0.7)\n",
    "    plt.tight_layout()\n",
    "    plt.show()\n",
    "\n",
    "# Dropdown para selecionar as colunas\n",
    "dropdown = Dropdown(\n",
    "    options=columns_to_plot,\n",
    "    description='Coluna:',\n",
    "    style={'description_width': 'initial'}\n",
    ")\n",
    "\n",
    "# Interatividade\n",
    "interact(plot_bar, column=dropdown)"
   ]
  },
  {
   "cell_type": "markdown",
   "metadata": {},
   "source": [
    "#### Normalização"
   ]
  },
  {
   "cell_type": "code",
   "execution_count": 43,
   "metadata": {},
   "outputs": [],
   "source": [
    "db_v1['IDADE'] = db_v1['IDADE'].replace('18 a 25 anos', 1)\n",
    "db_v1['IDADE'] = db_v1['IDADE'].replace('26 a 35 anos', 2)\n",
    "db_v1['IDADE'] = db_v1['IDADE'].replace('36 a 45 anos', 3)\n",
    "db_v1['IDADE'] = db_v1['IDADE'].replace('46 a 55 anos', 4)\n",
    "db_v1['IDADE'] = db_v1['IDADE'].replace('56 a 65 anos', 5)\n",
    "db_v1['IDADE'] = db_v1['IDADE'].replace('Mais de 65 anos', 6)"
   ]
  },
  {
   "cell_type": "code",
   "execution_count": 45,
   "metadata": {},
   "outputs": [],
   "source": [
    "db_v1['ESCOLARIDADE'] = db_v1['ESCOLARIDADE'].replace('Analfabeto', 1)\n",
    "db_v1['ESCOLARIDADE'] = db_v1['ESCOLARIDADE'].replace('Ensino fundamental', 2)\n",
    "db_v1['ESCOLARIDADE'] = db_v1['ESCOLARIDADE'].replace('Ensino médio', 3)\n",
    "db_v1['ESCOLARIDADE'] = db_v1['ESCOLARIDADE'].replace('Superior', 4)\n",
    "db_v1['ESCOLARIDADE'] = db_v1['ESCOLARIDADE'].replace('Especialização de nível superior', 5)\n",
    "db_v1['ESCOLARIDADE'] = db_v1['ESCOLARIDADE'].replace('Mestrado', 5)\n",
    "db_v1['ESCOLARIDADE'] = db_v1['ESCOLARIDADE'].replace('Doutorado', 7)"
   ]
  },
  {
   "cell_type": "code",
   "execution_count": 46,
   "metadata": {},
   "outputs": [],
   "source": [
    "db_v1['RENDA FAMILIAR'] = db_v1['RENDA FAMILIAR'].replace('outros', 1)\n",
    "db_v1['RENDA FAMILIAR'] = db_v1['RENDA FAMILIAR'].replace('prefiro não informar', 2)\n",
    "db_v1['RENDA FAMILIAR'] = db_v1['RENDA FAMILIAR'].replace('até 1 salário mínimo', 3)\n",
    "db_v1['RENDA FAMILIAR'] = db_v1['RENDA FAMILIAR'].replace('entre 1 e 2 sm', 4)\n",
    "db_v1['RENDA FAMILIAR'] = db_v1['RENDA FAMILIAR'].replace('entre 2 e 4 sm', 5)\n",
    "db_v1['RENDA FAMILIAR'] = db_v1['RENDA FAMILIAR'].replace('entre 4 e 10 sm', 6)\n",
    "db_v1['RENDA FAMILIAR'] = db_v1['RENDA FAMILIAR'].replace('entre 10 e 20 sm', 7)\n",
    "db_v1['RENDA FAMILIAR'] = db_v1['RENDA FAMILIAR'].replace('mais de 20 sm', 8)"
   ]
  },
  {
   "cell_type": "code",
   "execution_count": 47,
   "metadata": {},
   "outputs": [],
   "source": [
    "db_v1['QUANTIDADE DE VIAGENS NOS ÚLTIMOS 12 MESES'] = db_v1['QUANTIDADE DE VIAGENS NOS ÚLTIMOS 12 MESES'].replace('Primeira', 1)\n",
    "db_v1['QUANTIDADE DE VIAGENS NOS ÚLTIMOS 12 MESES'] = db_v1['QUANTIDADE DE VIAGENS NOS ÚLTIMOS 12 MESES'].replace('2 a 3', 2)\n",
    "db_v1['QUANTIDADE DE VIAGENS NOS ÚLTIMOS 12 MESES'] = db_v1['QUANTIDADE DE VIAGENS NOS ÚLTIMOS 12 MESES'].replace('4 a 5', 3)\n",
    "db_v1['QUANTIDADE DE VIAGENS NOS ÚLTIMOS 12 MESES'] = db_v1['QUANTIDADE DE VIAGENS NOS ÚLTIMOS 12 MESES'].replace('6 a 10', 4)\n",
    "db_v1['QUANTIDADE DE VIAGENS NOS ÚLTIMOS 12 MESES'] = db_v1['QUANTIDADE DE VIAGENS NOS ÚLTIMOS 12 MESES'].replace('mais de 11', 5)"
   ]
  },
  {
   "cell_type": "code",
   "execution_count": 48,
   "metadata": {},
   "outputs": [],
   "source": [
    "db_v1['ANTECEDÊNCIA'] = db_v1['ANTECEDÊNCIA'].replace('30min a 1h', 1)\n",
    "db_v1['ANTECEDÊNCIA'] = db_v1['ANTECEDÊNCIA'].replace('1h a 1h30min', 2)\n",
    "db_v1['ANTECEDÊNCIA'] = db_v1['ANTECEDÊNCIA'].replace('1h30min a 2h', 3)\n",
    "db_v1['ANTECEDÊNCIA'] = db_v1['ANTECEDÊNCIA'].replace('2h a 2h30min', 4)\n",
    "db_v1['ANTECEDÊNCIA'] = db_v1['ANTECEDÊNCIA'].replace('2h30min a 3h', 5)\n",
    "db_v1['ANTECEDÊNCIA'] = db_v1['ANTECEDÊNCIA'].replace('Mais de 3h', 6)"
   ]
  },
  {
   "cell_type": "code",
   "execution_count": 49,
   "metadata": {},
   "outputs": [],
   "source": [
    "df_test = db_v1"
   ]
  },
  {
   "cell_type": "code",
   "execution_count": 51,
   "metadata": {},
   "outputs": [],
   "source": [
    "scaler = MinMaxScaler()"
   ]
  },
  {
   "cell_type": "code",
   "execution_count": 52,
   "metadata": {},
   "outputs": [],
   "source": [
    "dados_normalizados = scaler.fit_transform(df_test)"
   ]
  },
  {
   "cell_type": "code",
   "execution_count": 53,
   "metadata": {},
   "outputs": [],
   "source": [
    "dados_normalizados_bd = pd.DataFrame(dados_normalizados, columns=df_test.columns)"
   ]
  },
  {
   "cell_type": "markdown",
   "metadata": {},
   "source": [
    "#### Kmeans, Kmodes, DBscan, Método Hierárquico"
   ]
  },
  {
   "cell_type": "markdown",
   "metadata": {},
   "source": [
    "##### Kmodes"
   ]
  },
  {
   "cell_type": "code",
   "execution_count": 54,
   "metadata": {},
   "outputs": [],
   "source": [
    "costs = []\n",
    "k_max = 5"
   ]
  },
  {
   "cell_type": "code",
   "execution_count": 55,
   "metadata": {},
   "outputs": [],
   "source": [
    "for k in range(1, k_max + 1):\n",
    "    kmodes = KModes(n_clusters=k, init= 'Huang',random_state=42)\n",
    "    kmodes.fit(dados_normalizados)\n",
    "    costs.append(kmodes.cost_)"
   ]
  },
  {
   "cell_type": "code",
   "execution_count": null,
   "metadata": {},
   "outputs": [],
   "source": [
    "plt.plot(range(1, k_max + 1), costs, marker='o')\n",
    "plt.xlabel('Número de clusters')\n",
    "plt.ylabel('Custo')\n",
    "plt.title('Método do Cotovelo')\n",
    "plt.show()"
   ]
  },
  {
   "cell_type": "code",
   "execution_count": 57,
   "metadata": {},
   "outputs": [],
   "source": [
    "silhouette_scores_pca = []\n",
    "silhouette_scores = []\n",
    "k_max_s = 5\n"
   ]
  },
  {
   "cell_type": "code",
   "execution_count": 58,
   "metadata": {},
   "outputs": [],
   "source": [
    "for k in range(2, k_max_s + 1):\n",
    "    kmodes = KModes(n_clusters=k, init= 'Huang' ,random_state=42)\n",
    "    cluster_labels = kmodes.fit_predict(dados_normalizados)\n",
    "    silhouette_avg = silhouette_score(dados_normalizados, cluster_labels)\n",
    "    silhouette_scores.append({'Número de Clusters': k, 'Silhouette Score': silhouette_avg})\n"
   ]
  },
  {
   "cell_type": "code",
   "execution_count": 59,
   "metadata": {},
   "outputs": [],
   "source": [
    "resultados_df = pd.DataFrame(silhouette_scores)\n",
    "resultados_df.sort_values(by='Silhouette Score', ascending=False, inplace=True)\n",
    "resultados_df.reset_index(inplace=True, drop=True)\n"
   ]
  },
  {
   "cell_type": "code",
   "execution_count": null,
   "metadata": {},
   "outputs": [],
   "source": [
    "resultados_df"
   ]
  },
  {
   "cell_type": "markdown",
   "metadata": {},
   "source": [
    "##### KMeans"
   ]
  },
  {
   "cell_type": "code",
   "execution_count": 62,
   "metadata": {},
   "outputs": [],
   "source": [
    "silhouette_scores_km = []\n",
    "k_max_s = 10"
   ]
  },
  {
   "cell_type": "code",
   "execution_count": 63,
   "metadata": {},
   "outputs": [],
   "source": [
    "for k in range(2, k_max_s + 1):\n",
    "    kmeans = KMeans(n_clusters=k, random_state=42)\n",
    "    cluster_labels = kmeans.fit_predict(dados_normalizados)\n",
    "    silhouette_avg = silhouette_score(dados_normalizados, cluster_labels)\n",
    "    silhouette_scores_km.append({'Número de Clusters': k, 'Silhouette Score': silhouette_avg})"
   ]
  },
  {
   "cell_type": "code",
   "execution_count": 64,
   "metadata": {},
   "outputs": [],
   "source": [
    "resultados_df_km = pd.DataFrame(silhouette_scores_km)\n",
    "resultados_df_km.sort_values(by='Silhouette Score', ascending=False, inplace=True)\n",
    "resultados_df_km.reset_index(inplace=True, drop=True)\n"
   ]
  },
  {
   "cell_type": "code",
   "execution_count": null,
   "metadata": {},
   "outputs": [],
   "source": [
    "resultados_df_km"
   ]
  },
  {
   "cell_type": "code",
   "execution_count": 66,
   "metadata": {},
   "outputs": [],
   "source": [
    "soma_quadrados_distancias = []"
   ]
  },
  {
   "cell_type": "code",
   "execution_count": 67,
   "metadata": {},
   "outputs": [],
   "source": [
    "for k in range(1, k_max + 1):\n",
    "    kmeans = KMeans(n_clusters=k, random_state=42)\n",
    "    kmeans.fit(dados_normalizados)\n",
    "    soma_quadrados_distancias.append(kmeans.inertia_)"
   ]
  },
  {
   "cell_type": "code",
   "execution_count": null,
   "metadata": {},
   "outputs": [],
   "source": [
    "plt.plot(range(1, k_max + 1), soma_quadrados_distancias, marker='o')\n",
    "plt.xlabel('Número de clusters')\n",
    "plt.ylabel('Soma dos quadrados das distâncias')\n",
    "plt.title('Método do Cotovelo')\n",
    "plt.show()"
   ]
  },
  {
   "cell_type": "markdown",
   "metadata": {},
   "source": [
    "##### DBSCAN"
   ]
  },
  {
   "cell_type": "code",
   "execution_count": 69,
   "metadata": {},
   "outputs": [],
   "source": [
    "eps_values = [0.5 + 0.1 * i for i in range(1, 15)]  \n",
    "min_samples = 5 "
   ]
  },
  {
   "cell_type": "code",
   "execution_count": null,
   "metadata": {},
   "outputs": [],
   "source": [
    "eps = 0.5  # Ajuste conforme necessário\n",
    "min_samples = 5\n",
    "dbscan = DBSCAN(eps=eps, min_samples=min_samples)\n",
    "cluster_labels = dbscan.fit_predict(dados_normalizados_bd)\n",
    "\n",
    "# Reduzindo os dados para 2D com PCA para visualização (caso sejam multidimensionais)\n",
    "pca = PCA(n_components=2)\n",
    "dados_2d = pca.fit_transform(dados_normalizados_bd)\n",
    "\n",
    "# Plotando os clusters\n",
    "plt.figure(figsize=(10, 6))\n",
    "unique_labels = set(cluster_labels)\n",
    "\n",
    "for label in unique_labels:\n",
    "    cor = 'k' if label == -1 else plt.cm.nipy_spectral(float(label) / len(unique_labels))  # Ruído em preto\n",
    "    plt.scatter(\n",
    "        dados_2d[cluster_labels == label, 0], \n",
    "        dados_2d[cluster_labels == label, 1], \n",
    "        s=50, c=[cor], label=f'Cluster {label}' if label != -1 else 'Ruído'\n",
    "    )\n",
    "\n",
    "plt.title(f'Distribuição dos Clusters - DBSCAN (eps={eps}, min_samples={min_samples})')\n",
    "plt.legend(loc='best')\n",
    "plt.show()"
   ]
  },
  {
   "cell_type": "markdown",
   "metadata": {},
   "source": [
    "##### Método Hierárquico"
   ]
  },
  {
   "cell_type": "code",
   "execution_count": null,
   "metadata": {},
   "outputs": [],
   "source": [
    "n_clusters_values = range(2, 11)  # Testa de 2 a 10 clusters\n",
    "\n",
    "# Loop para testar diferentes números de clusters e calcular o Silhouette Score\n",
    "for n_clusters in n_clusters_values:\n",
    "    hierarquico = AgglomerativeClustering(n_clusters=n_clusters, linkage='ward')\n",
    "    cluster_labels = hierarquico.fit_predict(dados_normalizados_bd)\n",
    "\n",
    "    # Calcula o Silhouette Score para cada configuração\n",
    "    silhouette_avg = silhouette_score(dados_normalizados_bd, cluster_labels)\n",
    "    print(f\"Número de Clusters: {n_clusters}, Silhouette Score: {silhouette_avg:.4f}\")"
   ]
  },
  {
   "cell_type": "markdown",
   "metadata": {},
   "source": [
    "#### PCA e MCA"
   ]
  },
  {
   "cell_type": "markdown",
   "metadata": {},
   "source": [
    "##### PCA KMeans"
   ]
  },
  {
   "cell_type": "code",
   "execution_count": null,
   "metadata": {},
   "outputs": [],
   "source": [
    "k_pca = [2,3,4,5]\n",
    "\n",
    "for kpca in k_pca:\n",
    "    pca = PCA(n_components=kpca)\n",
    "    pca_result = pca.fit_transform(dados_normalizados)\n",
    "\n",
    "\n",
    "    silhouette_scores_pca = []\n",
    "    for k in range(2, k_max_s + 1):\n",
    "        kmeans = KMeans(n_clusters=k, random_state=42)\n",
    "        cluster_labels_pca = kmeans.fit_predict(pca_result)\n",
    "        silhouette_avg_pca = silhouette_score(pca_result, cluster_labels_pca)\n",
    "        silhouette_scores_pca.append({'Número de Clusters': k, 'Silhouette Score': silhouette_avg_pca})\n",
    "    resultados_pca = pd.DataFrame(silhouette_scores_pca)\n",
    "    resultados_pca.sort_values(by='Silhouette Score', ascending=False, inplace=True)\n",
    "    resultados_pca.reset_index(inplace=True, drop=True)\n",
    "    print(f'Número de componentes pca = {kpca}')\n",
    "    print(resultados_pca)\n",
    "    print('--------------------------------------------------------------------------')"
   ]
  },
  {
   "cell_type": "markdown",
   "metadata": {},
   "source": [
    "##### PCA KModes"
   ]
  },
  {
   "cell_type": "code",
   "execution_count": null,
   "metadata": {},
   "outputs": [],
   "source": [
    "k_pca = [2,3,]\n",
    "k_max_sp = 5\n",
    "\n",
    "for kpca in k_pca:\n",
    "    pca = PCA(n_components=kpca)\n",
    "    pca_result = pca.fit_transform(dados_normalizados)\n",
    "\n",
    "\n",
    "    silhouette_scores_pca = []\n",
    "    for k in range(2, k_max_sp + 1):\n",
    "        kmodes = KModes(n_clusters=k, init= 'Huang' ,random_state=42)\n",
    "        cluster_labels_pca = kmodes.fit_predict(pca_result)\n",
    "        silhouette_avg_pca = silhouette_score(pca_result, cluster_labels_pca)\n",
    "        silhouette_scores_pca.append({'Número de Clusters': k, 'Silhouette Score': silhouette_avg_pca})\n",
    "    resultados_pca = pd.DataFrame(silhouette_scores_pca)\n",
    "    resultados_pca.sort_values(by='Silhouette Score', ascending=False, inplace=True)\n",
    "    resultados_pca.reset_index(inplace=True, drop=True)\n",
    "    print(f'Número de componentes pca = {kpca}')\n",
    "    print(resultados_pca)\n",
    "    print('--------------------------------------------------------------------------')"
   ]
  },
  {
   "cell_type": "markdown",
   "metadata": {},
   "source": [
    "##### PCA Método Hierárquico"
   ]
  },
  {
   "cell_type": "code",
   "execution_count": null,
   "metadata": {},
   "outputs": [],
   "source": [
    "pca = PCA(n_components=2)\n",
    "dados_2d = pca.fit_transform(dados_normalizados_bd)\n",
    "\n",
    "# Lista de valores de clusters a serem testados\n",
    "n_clusters_values = range(2, 11)  # Testa de 2 a 10 clusters\n",
    "\n",
    "# Loop para testar diferentes números de clusters e calcular o Silhouette Score\n",
    "for n_clusters in n_clusters_values:\n",
    "    hierarquico = AgglomerativeClustering(n_clusters=n_clusters, linkage='ward')\n",
    "    cluster_labels = hierarquico.fit_predict(dados_2d)\n",
    "\n",
    "    # Calcula o Silhouette Score para cada configuração\n",
    "    silhouette_avg = silhouette_score(dados_2d, cluster_labels)\n",
    "    print(f\"Número de Clusters: {n_clusters}, Silhouette Score: {silhouette_avg:.4f}\")"
   ]
  },
  {
   "cell_type": "markdown",
   "metadata": {},
   "source": [
    "##### MCA KMeans"
   ]
  },
  {
   "cell_type": "code",
   "execution_count": 76,
   "metadata": {},
   "outputs": [],
   "source": [
    "mca =MCA(n_components = 2, n_iter = 10, random_state = 42)\n",
    "mca.fit(dados_normalizados_bd)\n",
    "mpg_mca = mca.transform(dados_normalizados_bd)"
   ]
  },
  {
   "cell_type": "code",
   "execution_count": null,
   "metadata": {},
   "outputs": [],
   "source": [
    "kmeans_mc = KMeans(n_clusters=2,random_state=42)\n",
    "cluster_labels_mca_km = kmeans_mc.fit_predict(mpg_mca)\n",
    "silhouette_avg_mca_km = silhouette_score(mpg_mca, cluster_labels_mca_km)\n",
    "print(silhouette_avg_mca_km)"
   ]
  },
  {
   "cell_type": "code",
   "execution_count": null,
   "metadata": {},
   "outputs": [],
   "source": [
    "# Lista de valores de clusters a serem testados\n",
    "n_clusters_values = range(2, 11)  # Testa entre 2 e 10 clusters\n",
    "\n",
    "# Lista para armazenar os Silhouette Scores\n",
    "silhouette_scores_mca = []\n",
    "\n",
    "# Loop para calcular o Silhouette Score para cada número de clusters\n",
    "for n_clusters in n_clusters_values:\n",
    "    kmeans_mc = KMeans(n_clusters=n_clusters,random_state=42)\n",
    "    cluster_labels_km = kmeans_mc.fit_predict(mpg_mca)\n",
    "\n",
    "    # Calculando e armazenando o Silhouette Score\n",
    "    score_km = silhouette_score(mpg_mca, cluster_labels_km)\n",
    "    silhouette_scores_mca.append(score_km)\n",
    "    print(f\"Número de Clusters: {n_clusters}, Silhouette Score: {score_km:.4f}\")\n",
    "\n",
    "# Plotando o gráfico do Silhouette Score por número de clusters\n",
    "plt.figure(figsize=(8, 6))\n",
    "plt.plot(n_clusters_values, silhouette_scores_mca, marker='o', linestyle='-', color='r')\n",
    "plt.title('Silhouette Score por Número de Clusters')\n",
    "plt.xlabel('Número de Clusters')\n",
    "plt.ylabel('Silhouette Score')\n",
    "plt.grid(True)\n",
    "plt.show()"
   ]
  },
  {
   "cell_type": "markdown",
   "metadata": {},
   "source": [
    "##### MCA Método Hierárquico"
   ]
  },
  {
   "cell_type": "code",
   "execution_count": null,
   "metadata": {},
   "outputs": [],
   "source": [
    "mca = MCA(n_components=2, n_iter=10, random_state=42)\n",
    "mca.fit(dados_normalizados_bd)\n",
    "dados_2d_mca = mca.transform(dados_normalizados_bd)\n",
    "\n",
    "# Lista de valores de clusters a serem testados\n",
    "n_clusters_values = range(2, 11)  # Testa entre 2 e 10 clusters\n",
    "\n",
    "# Lista para armazenar os Silhouette Scores\n",
    "silhouette_scores_mca = []\n",
    "\n",
    "# Loop para calcular o Silhouette Score para cada número de clusters\n",
    "for n_clusters in n_clusters_values:\n",
    "    hierarquico = AgglomerativeClustering(n_clusters=n_clusters, linkage='ward')\n",
    "    cluster_labels = hierarquico.fit_predict(dados_2d_mca)\n",
    "\n",
    "    # Calculando e armazenando o Silhouette Score\n",
    "    score = silhouette_score(dados_2d_mca, cluster_labels)\n",
    "    silhouette_scores_mca.append(score)\n",
    "    print(f\"Número de Clusters: {n_clusters}, Silhouette Score: {score:.4f}\")\n",
    "\n",
    "# Plotando o gráfico do Silhouette Score por número de clusters\n",
    "plt.figure(figsize=(8, 6))\n",
    "plt.plot(n_clusters_values, silhouette_scores_mca, marker='o', linestyle='-', color='r')\n",
    "plt.title('Silhouette Score por Número de Clusters')\n",
    "plt.xlabel('Número de Clusters')\n",
    "plt.ylabel('Silhouette Score')\n",
    "plt.grid(True)\n",
    "plt.show()"
   ]
  },
  {
   "cell_type": "markdown",
   "metadata": {},
   "source": [
    "#### Clusterização"
   ]
  },
  {
   "cell_type": "code",
   "execution_count": 84,
   "metadata": {},
   "outputs": [],
   "source": [
    "mca = MCA(n_components=2, n_iter=10, random_state=42)\n",
    "mca_n_coluna = mca.fit_transform(dados_normalizados_bd)\n",
    "kmeans = KMeans(n_clusters=3, random_state=42)\n",
    "hierarquico = AgglomerativeClustering(n_clusters=2, linkage='ward')\n",
    "cluster_2_ac_mca = hierarquico.fit_predict(mca_n_coluna)\n",
    "cluster_3_km_mca = kmeans.fit_predict(mca_n_coluna)"
   ]
  },
  {
   "cell_type": "code",
   "execution_count": 83,
   "metadata": {},
   "outputs": [],
   "source": [
    "db_cl = dados_n_faltantes"
   ]
  },
  {
   "cell_type": "code",
   "execution_count": 90,
   "metadata": {},
   "outputs": [],
   "source": [
    "dados_class = dados_normalizados_bd"
   ]
  },
  {
   "cell_type": "code",
   "execution_count": 91,
   "metadata": {},
   "outputs": [],
   "source": [
    "db_cl['KM_MCA_3'] = cluster_3_km_mca\n",
    "db_cl['AM_MCA_2'] = cluster_2_ac_mca"
   ]
  },
  {
   "cell_type": "code",
   "execution_count": 92,
   "metadata": {},
   "outputs": [],
   "source": [
    "db_class_km = dados_normalizados_bd\n",
    "db_class_am = dados_normalizados_bd"
   ]
  },
  {
   "cell_type": "code",
   "execution_count": 93,
   "metadata": {},
   "outputs": [],
   "source": [
    "db_class_km['KM_MCA_3'] = cluster_3_km_mca\n",
    "db_class_am['AM_MCA_2'] = cluster_2_ac_mca"
   ]
  },
  {
   "cell_type": "markdown",
   "metadata": {},
   "source": [
    "#### Análise Gráfica Clusters"
   ]
  },
  {
   "cell_type": "code",
   "execution_count": null,
   "metadata": {},
   "outputs": [],
   "source": [
    "def plot_cluster_distribution(cluster_column, data_column):\n",
    "    # Verifica se as colunas existem no DataFrame\n",
    "    if cluster_column not in db_cl.columns or data_column not in db_cl.columns:\n",
    "        print(f\"Uma das colunas '{cluster_column}' ou '{data_column}' não existe no DataFrame!\")\n",
    "        return\n",
    "    \n",
    "    # Agrupar e contar ocorrências\n",
    "    count_data = db_cl.groupby([data_column, cluster_column]).size().reset_index(name='count')\n",
    "    \n",
    "    # Transformar em pivot table\n",
    "    # Linhas: valores de data_column\n",
    "    # Colunas: clusters\n",
    "    # Valores: contagem\n",
    "    pivot_df = count_data.pivot(index=data_column, columns=cluster_column, values='count').fillna(0)\n",
    "    \n",
    "    # Ordenar o índice se for numérico, para evitar eixos bagunçados\n",
    "    try:\n",
    "        pivot_df.index = pivot_df.index.astype(int)  # tenta converter para int\n",
    "        pivot_df.sort_index(inplace=True)\n",
    "    except:\n",
    "        # Se não for numérico, não faz nada\n",
    "        pass\n",
    "\n",
    "    # Cria figura e subplots\n",
    "    fig, (ax1, ax2) = plt.subplots(nrows=2, figsize=(15, 10), sharex=False)\n",
    "    \n",
    "    # --------------------------\n",
    "    # 1) GRÁFICO DE LINHAS (ABSOLUTO)\n",
    "    # --------------------------\n",
    "    # Escolhe uma paleta de cores mais vibrantes\n",
    "    colors = sns.color_palette('bright', n_colors=len(pivot_df.columns))\n",
    "    \n",
    "    # Plotar cada cluster como uma linha\n",
    "    for (cluster_id, color) in zip(pivot_df.columns, colors):\n",
    "        ax1.plot(\n",
    "            pivot_df.index,        # eixo X\n",
    "            pivot_df[cluster_id],  # eixo Y\n",
    "            marker='o',\n",
    "            linestyle='-',\n",
    "            label=f'Cluster {cluster_id}',\n",
    "            color=color\n",
    "        )\n",
    "    \n",
    "    # Configurações do eixo X para remover fracionários (se for numérico)\n",
    "    # Vamos mostrar somente cada valor único presente em pivot_df.index\n",
    "    # Se o índice for numérico inteiro, isso impede valores como 1.5, 2.5, etc.\n",
    "    if pd.api.types.is_numeric_dtype(pivot_df.index):\n",
    "        ax1.set_xticks(pivot_df.index)  # Coloca apenas valores exatos do índice\n",
    "    \n",
    "    ax1.set_title(f'(1) Número Absoluto de Pessoas - {data_column} vs {cluster_column}', fontsize=12)\n",
    "    ax1.set_xlabel(data_column, fontsize=11)\n",
    "    ax1.set_ylabel('Quantidade de Pessoas', fontsize=11)\n",
    "    ax1.legend(title=\"Cluster\")\n",
    "    ax1.grid(axis='y', linestyle='--', alpha=0.7)\n",
    "    \n",
    "    # --------------------------\n",
    "    # 2) GRÁFICO DE BARRAS EMPILHADAS (PERCENTUAL)\n",
    "    # --------------------------\n",
    "    # Cria DataFrame de porcentagem (cada linha soma 100%)\n",
    "    pct_df = pivot_df.div(pivot_df.sum(axis=1), axis=0).fillna(0)\n",
    "    \n",
    "    # Plot de barras empilhadas\n",
    "    pct_df.plot(\n",
    "        kind='bar', \n",
    "        stacked=True, \n",
    "        color=colors,\n",
    "        ax=ax2,\n",
    "        alpha=0.9\n",
    "    )\n",
    "    \n",
    "    ax2.set_title(f'(2) Percentual de Pessoas - {data_column} vs {cluster_column}', fontsize=12)\n",
    "    ax2.set_xlabel(data_column, fontsize=11)\n",
    "    ax2.set_ylabel('Percentual', fontsize=11)\n",
    "    ax2.legend(title=\"Cluster\")\n",
    "    ax2.grid(axis='y', linestyle='--', alpha=0.7)\n",
    "\n",
    "    # Ajusta os ticks do eixo X, removendo fracionários caso o índice seja numérico\n",
    "    if pd.api.types.is_numeric_dtype(pct_df.index):\n",
    "        ax2.set_xticks(range(len(pct_df.index)))  # posições\n",
    "        ax2.set_xticklabels(pct_df.index)         # rótulos\n",
    "    \n",
    "    plt.tight_layout()\n",
    "    plt.show()\n",
    "\n",
    "# --------------------------------------------------------------------\n",
    "# Função para atualizar o gráfico com base na seleção dos widgets\n",
    "# --------------------------------------------------------------------\n",
    "def update_plot(cluster_column, data_column):\n",
    "    plot_cluster_distribution(cluster_column, data_column)\n",
    "\n",
    "# --------------------------------------------------------------------\n",
    "# Widgets interativos\n",
    "# --------------------------------------------------------------------\n",
    "cluster_dropdown = widgets.Dropdown(\n",
    "    options=['KM_MCA_3', 'AM_MCA_2'],\n",
    "    value='KM_MCA_3',\n",
    "    description='Cluster:',\n",
    "    disabled=False\n",
    ")\n",
    "\n",
    "data_column_dropdown = widgets.Dropdown(\n",
    "    options=[\n",
    "        'IDADE', \n",
    "        'ESCOLARIDADE', \n",
    "        'RENDA FAMILIAR', \n",
    "        'MOTIVO DA VIAGEM', \n",
    "        'QUANTIDADE DE VIAGENS NOS ÚLTIMOS 12 MESES', \n",
    "        'ANTECEDÊNCIA',\n",
    "        'SATISFAÇÃO GERAL',\n",
    "        'LIMPEZA GERAL DO AEROPORTO',\n",
    "        'CONFORTO DA SALA DE EMBARQUE',\n",
    "        'SANITÁRIOS',\n",
    "        'LOCALIZAÇÃO E DESLOCAMENTO',\n",
    "        'PROCESSO DE INSPEÇÃO DE SEGURANÇA',\n",
    "        'DISPONIBILIDADE DE TOMADAS',\n",
    "        'FACILIDADE DE DESEMBARQUE NO MEIO-FIO'\n",
    "    ],\n",
    "    value='IDADE',\n",
    "    description='Coluna de Dados:',\n",
    "    disabled=False\n",
    ")\n",
    "\n",
    "# Exibindo widgets interativos\n",
    "widgets.interactive(\n",
    "    update_plot,\n",
    "    cluster_column=cluster_dropdown,\n",
    "    data_column=data_column_dropdown\n",
    ")"
   ]
  },
  {
   "cell_type": "markdown",
   "metadata": {},
   "source": [
    "#### Classificação"
   ]
  },
  {
   "cell_type": "code",
   "execution_count": 100,
   "metadata": {},
   "outputs": [],
   "source": [
    "db_km = dados_class\n",
    "db_am = dados_class"
   ]
  },
  {
   "cell_type": "code",
   "execution_count": 101,
   "metadata": {},
   "outputs": [],
   "source": [
    "db_km = db_km.drop(columns=['AM_MCA_2'])\n",
    "db_am = db_am.drop(columns=['KM_MCA_3'])"
   ]
  },
  {
   "cell_type": "code",
   "execution_count": 102,
   "metadata": {},
   "outputs": [],
   "source": [
    "X_km = db_km.drop(columns=['KM_MCA_3'])\n",
    "X_am = db_am.drop(columns=['AM_MCA_2'])\n",
    "\n",
    "\n",
    "y_km = db_km['KM_MCA_3']\n",
    "y_am = db_am['AM_MCA_2']"
   ]
  },
  {
   "cell_type": "code",
   "execution_count": 103,
   "metadata": {},
   "outputs": [],
   "source": [
    "X_train_km, X_test_km, y_train_km, y_test_km = train_test_split(X_km, y_km, test_size=0.25, random_state=42)\n",
    "\n",
    "X_train_am, X_test_am, y_train_am, y_test_am = train_test_split(X_am, y_am, test_size=0.25, random_state=42)"
   ]
  },
  {
   "cell_type": "code",
   "execution_count": 104,
   "metadata": {},
   "outputs": [],
   "source": [
    "rf = RandomForestClassifier()"
   ]
  },
  {
   "cell_type": "code",
   "execution_count": null,
   "metadata": {},
   "outputs": [],
   "source": [
    "print('KM com 3 clusters')\n",
    "rf.fit(X_train_km, y_train_km)\n",
    "pred_ = rf.predict(X_test_km)\n",
    "print(f'{rf} {classification_report(y_test_km, pred_)}')\n",
    "print('-------------------------------------------------------------')\n",
    "importances_km = pd.Series(rf.feature_importances_, index=X_train_km.columns)"
   ]
  },
  {
   "cell_type": "code",
   "execution_count": null,
   "metadata": {},
   "outputs": [],
   "source": [
    "print('AM com 2 clusters')\n",
    "rf.fit(X_train_am, y_train_am)\n",
    "pred_ = rf.predict(X_test_am)\n",
    "print(f'{rf} {classification_report(y_test_am, pred_)}')\n",
    "print('-------------------------------------------------------------')\n",
    "importances_am = pd.Series(rf.feature_importances_, index=X_train_am.columns)"
   ]
  },
  {
   "cell_type": "code",
   "execution_count": null,
   "metadata": {},
   "outputs": [],
   "source": [
    "importances_km.sort_values(ascending=False)"
   ]
  },
  {
   "cell_type": "code",
   "execution_count": null,
   "metadata": {},
   "outputs": [],
   "source": [
    "importances_am.sort_values(ascending=False)"
   ]
  },
  {
   "cell_type": "markdown",
   "metadata": {},
   "source": [
    "#### Shap"
   ]
  },
  {
   "cell_type": "markdown",
   "metadata": {},
   "source": [
    "##### Shap Hierárquico"
   ]
  },
  {
   "cell_type": "code",
   "execution_count": null,
   "metadata": {},
   "outputs": [],
   "source": [
    "rf_am = RandomForestClassifier(random_state=42)\n",
    "rf_am.fit(X_train_am, y_train_am)"
   ]
  },
  {
   "cell_type": "code",
   "execution_count": 116,
   "metadata": {},
   "outputs": [],
   "source": [
    "explainer_am = shap.TreeExplainer(rf_am)\n",
    "shap_values_am = explainer_am.shap_values(X_test_am)"
   ]
  },
  {
   "cell_type": "code",
   "execution_count": 117,
   "metadata": {},
   "outputs": [],
   "source": [
    "shap_values_to_plot = np.mean(shap_values_am, axis=2)"
   ]
  },
  {
   "cell_type": "code",
   "execution_count": null,
   "metadata": {},
   "outputs": [],
   "source": [
    "shap.summary_plot(shap_values_to_plot, X_test_am, feature_names=X_test_am.columns, max_display=10, plot_size=(10, 6))"
   ]
  },
  {
   "cell_type": "markdown",
   "metadata": {},
   "source": [
    "##### Shap KMeans"
   ]
  },
  {
   "cell_type": "code",
   "execution_count": null,
   "metadata": {},
   "outputs": [],
   "source": [
    "rf_km = RandomForestClassifier(random_state=42)\n",
    "rf_km.fit(X_train_km, y_train_km)"
   ]
  },
  {
   "cell_type": "code",
   "execution_count": 120,
   "metadata": {},
   "outputs": [],
   "source": [
    "explainer_km = shap.TreeExplainer(rf_km)\n",
    "shap_values_km = explainer_km.shap_values(X_test_km)"
   ]
  },
  {
   "cell_type": "code",
   "execution_count": 121,
   "metadata": {},
   "outputs": [],
   "source": [
    "shap_values_to_plot = np.mean(shap_values_km, axis=2)"
   ]
  },
  {
   "cell_type": "code",
   "execution_count": null,
   "metadata": {},
   "outputs": [],
   "source": [
    "shap.summary_plot(shap_values_to_plot, X_test_km, feature_names=X_test_km.columns, max_display=10, plot_size=(10, 6))"
   ]
  }
 ],
 "metadata": {
  "kernelspec": {
   "display_name": "Python 3",
   "language": "python",
   "name": "python3"
  },
  "language_info": {
   "codemirror_mode": {
    "name": "ipython",
    "version": 3
   },
   "file_extension": ".py",
   "mimetype": "text/x-python",
   "name": "python",
   "nbconvert_exporter": "python",
   "pygments_lexer": "ipython3",
   "version": "3.12.6"
  }
 },
 "nbformat": 4,
 "nbformat_minor": 2
}
